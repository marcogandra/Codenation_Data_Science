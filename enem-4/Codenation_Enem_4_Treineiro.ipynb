{
  "nbformat": 4,
  "nbformat_minor": 0,
  "metadata": {
    "colab": {
      "name": "Codenation_Enem_4_Treineiro.ipynb",
      "provenance": [],
      "collapsed_sections": []
    },
    "kernelspec": {
      "name": "python3",
      "display_name": "Python 3"
    }
  },
  "cells": [
    {
      "cell_type": "markdown",
      "metadata": {
        "id": "dqMWBTFBXfCg",
        "colab_type": "text"
      },
      "source": [
        "# Notas de matemática do ENEM 2016\n",
        "\n",
        "Business Problem: Este [desafio](https://www.codenation.dev/aceleradev/ds-online-1/challenge/enem-ps) faz parte do programa de aceleração da [Codenation](https://www.codenation.dev/). O objetivo é criar um modelo para prever se o canditado é treineiro para dados do ENEM 2016.\n",
        "\n",
        "Eu utilizei o Google Colab. Assim, fiz o upload dos arquivos no Drive e acessei via PyDrive, conforme as próximas células.\n"
      ]
    },
    {
      "cell_type": "code",
      "metadata": {
        "id": "seBvehqC0zek",
        "colab_type": "code",
        "colab": {}
      },
      "source": [
        "from pydrive.auth import GoogleAuth\n",
        "from pydrive.drive import GoogleDrive\n",
        "from google.colab import auth\n",
        "from oauth2client.client import GoogleCredentials"
      ],
      "execution_count": 0,
      "outputs": []
    },
    {
      "cell_type": "code",
      "metadata": {
        "id": "fj_10dAe02zt",
        "colab_type": "code",
        "colab": {}
      },
      "source": [
        "auth.authenticate_user()\n",
        "gauth = GoogleAuth()\n",
        "gauth.credentials = GoogleCredentials.get_application_default()\n",
        "drive = GoogleDrive(gauth)"
      ],
      "execution_count": 0,
      "outputs": []
    },
    {
      "cell_type": "code",
      "metadata": {
        "id": "iC4DE-QD0_v0",
        "colab_type": "code",
        "colab": {}
      },
      "source": [
        "downloaded = drive.CreateFile({'id':\"abc\"})   # replace the id with id of file you want to access\n",
        "downloaded.GetContentFile('test_enem4.csv')"
      ],
      "execution_count": 0,
      "outputs": []
    },
    {
      "cell_type": "code",
      "metadata": {
        "id": "LI23HdX31Ns9",
        "colab_type": "code",
        "colab": {}
      },
      "source": [
        "downloaded = drive.CreateFile({'id':\"abc\"})   # replace the id with id of file you want to access\n",
        "downloaded.GetContentFile('train.csv')"
      ],
      "execution_count": 0,
      "outputs": []
    },
    {
      "cell_type": "code",
      "metadata": {
        "id": "3JUuAip51RuF",
        "colab_type": "code",
        "colab": {}
      },
      "source": [
        "import pandas as pd\n",
        "import numpy as np\n",
        "import seaborn as sns\n",
        "sns.set_style('darkgrid')\n",
        "import matplotlib.pyplot as plt\n",
        "%matplotlib inline\n",
        "\n",
        "import warnings\n",
        "warnings.filterwarnings('ignore')\n",
        "\n",
        "pd.set_option('display.max_columns', None)\n",
        "pd.set_option('display.max_rows', None)"
      ],
      "execution_count": 0,
      "outputs": []
    },
    {
      "cell_type": "code",
      "metadata": {
        "id": "iOJXnnkb1a6k",
        "colab_type": "code",
        "colab": {}
      },
      "source": [
        "train = pd.read_csv(\"train.csv\")\n",
        "test = pd.read_csv('test_enem4.csv')"
      ],
      "execution_count": 0,
      "outputs": []
    },
    {
      "cell_type": "code",
      "metadata": {
        "id": "esveficVZKgN",
        "colab_type": "code",
        "outputId": "f3b4000c-0888-4ff9-d4dc-a7db639086bd",
        "colab": {
          "base_uri": "https://localhost:8080/",
          "height": 34
        }
      },
      "source": [
        "print(train.shape, test.shape)"
      ],
      "execution_count": 131,
      "outputs": [
        {
          "output_type": "stream",
          "text": [
            "(13730, 167) (4570, 43)\n"
          ],
          "name": "stdout"
        }
      ]
    },
    {
      "cell_type": "markdown",
      "metadata": {
        "id": "_Q2qB1fAZAqi",
        "colab_type": "text"
      },
      "source": [
        "**Datasets**: O conjunto de treino possui dados de 13730 alunos com 167 variáveis para cada um deles. O conjunto de teste possui 43 variáveis e um total de 4570 alunos.\n",
        "\n",
        "## Análise de dados faltantes (Missing Values)\n",
        "\n",
        "Os dois conjuntos possuem muitos dados faltantes NaN. Como pode ver observado nas próximas células."
      ]
    },
    {
      "cell_type": "code",
      "metadata": {
        "id": "DnVj2U1uY7Uo",
        "colab_type": "code",
        "colab": {}
      },
      "source": [
        "#Função para verificar quais colunas possuem valores nulos\n",
        "def getMissing(data):\n",
        "  total = data.isnull().sum().sort_values(ascending=False)\n",
        "  percent = (data.isnull().sum() / data.isnull().count() * 100).sort_values(ascending=False)\n",
        "  missing_data = pd.concat([total, percent], axis=1, keys=['Total', 'Percent'])\n",
        "  missing_data.sort_values(by='Total', ascending=False, inplace=True)\n",
        "  print(missing_data[missing_data['Total'] > 0])"
      ],
      "execution_count": 0,
      "outputs": []
    },
    {
      "cell_type": "code",
      "metadata": {
        "id": "iFJQYBmeacNu",
        "colab_type": "code",
        "outputId": "b75073a5-c45a-4f84-f801-aeab2a47418e",
        "colab": {
          "base_uri": "https://localhost:8080/",
          "height": 782
        }
      },
      "source": [
        "getMissing(train)"
      ],
      "execution_count": 133,
      "outputs": [
        {
          "output_type": "stream",
          "text": [
            "                             Total    Percent\n",
            "CO_UF_ENTIDADE_CERTIFICACAO  12092  88.069920\n",
            "SG_UF_ENTIDADE_CERTIFICACAO  12092  88.069920\n",
            "NO_ENTIDADE_CERTIFICACAO     12092  88.069920\n",
            "Q041                         10792  78.601602\n",
            "TP_SIT_FUNC_ESC               9448  68.812819\n",
            "TP_LOCALIZACAO_ESC            9448  68.812819\n",
            "TP_DEPENDENCIA_ADM_ESC        9448  68.812819\n",
            "CO_UF_ESC                     9448  68.812819\n",
            "NO_MUNICIPIO_ESC              9448  68.812819\n",
            "CO_ESCOLA                     9448  68.812819\n",
            "TP_ENSINO                     9448  68.812819\n",
            "SG_UF_ESC                     9448  68.812819\n",
            "CO_MUNICIPIO_ESC              9448  68.812819\n",
            "Q033                          7376  53.721777\n",
            "Q032                          7376  53.721777\n",
            "Q031                          7376  53.721777\n",
            "Q028                          7376  53.721777\n",
            "Q029                          7375  53.714494\n",
            "Q030                          7375  53.714494\n",
            "Q027                          7373  53.699927\n",
            "NU_NOTA_COMP3                 3597  26.198106\n",
            "TX_GABARITO_MT                3597  26.198106\n",
            "TX_RESPOSTAS_MT               3597  26.198106\n",
            "TP_STATUS_REDACAO             3597  26.198106\n",
            "NU_NOTA_COMP1                 3597  26.198106\n",
            "NU_NOTA_COMP2                 3597  26.198106\n",
            "TX_RESPOSTAS_LC               3597  26.198106\n",
            "NU_NOTA_MT                    3597  26.198106\n",
            "NU_NOTA_LC                    3597  26.198106\n",
            "NU_NOTA_COMP4                 3597  26.198106\n",
            "NU_NOTA_COMP5                 3597  26.198106\n",
            "NU_NOTA_REDACAO               3597  26.198106\n",
            "TX_GABARITO_LC                3597  26.198106\n",
            "TX_RESPOSTAS_CH               3389  24.683176\n",
            "TX_RESPOSTAS_CN               3389  24.683176\n",
            "TX_GABARITO_CN                3389  24.683176\n",
            "NU_NOTA_CH                    3389  24.683176\n",
            "NU_NOTA_CN                    3389  24.683176\n",
            "TX_GABARITO_CH                3389  24.683176\n",
            "CO_MUNICIPIO_NASCIMENTO        609   4.435543\n",
            "SG_UF_NASCIMENTO               609   4.435543\n",
            "CO_UF_NASCIMENTO               609   4.435543\n",
            "NO_MUNICIPIO_NASCIMENTO        609   4.435543\n",
            "TP_ESTADO_CIVIL                528   3.845594\n"
          ],
          "name": "stdout"
        }
      ]
    },
    {
      "cell_type": "code",
      "metadata": {
        "id": "ueSnRQRDaeDy",
        "colab_type": "code",
        "outputId": "5297cdc9-aeb1-4ead-9d4c-0485f289e818",
        "colab": {
          "base_uri": "https://localhost:8080/",
          "height": 255
        }
      },
      "source": [
        "getMissing(test)"
      ],
      "execution_count": 134,
      "outputs": [
        {
          "output_type": "stream",
          "text": [
            "                        Total    Percent\n",
            "TP_DEPENDENCIA_ADM_ESC   3144  68.796499\n",
            "TP_ENSINO                3144  68.796499\n",
            "Q027                     2437  53.326039\n",
            "NU_NOTA_COMP3            1170  25.601751\n",
            "NU_NOTA_LC               1170  25.601751\n",
            "NU_NOTA_COMP4            1170  25.601751\n",
            "NU_NOTA_REDACAO          1170  25.601751\n",
            "NU_NOTA_COMP2            1170  25.601751\n",
            "TP_STATUS_REDACAO        1170  25.601751\n",
            "NU_NOTA_COMP5            1170  25.601751\n",
            "NU_NOTA_COMP1            1170  25.601751\n",
            "NU_NOTA_CH               1112  24.332604\n",
            "NU_NOTA_CN               1112  24.332604\n"
          ],
          "name": "stdout"
        }
      ]
    },
    {
      "cell_type": "code",
      "metadata": {
        "id": "wJE64N5-doHM",
        "colab_type": "code",
        "colab": {}
      },
      "source": [
        "notas = [ 'NU_NOTA_COMP3','NU_NOTA_LC','NU_NOTA_COMP4','NU_NOTA_REDACAO','NU_NOTA_COMP2' ,\n",
        "         'TP_STATUS_REDACAO','NU_NOTA_COMP5','NU_NOTA_COMP1','NU_NOTA_CH','NU_NOTA_CN']"
      ],
      "execution_count": 0,
      "outputs": []
    },
    {
      "cell_type": "code",
      "metadata": {
        "id": "QWs8caLcd5By",
        "colab_type": "code",
        "colab": {}
      },
      "source": [
        "train[notas] = train[notas].fillna(0)\n",
        "test[notas] = test[notas].fillna(0)"
      ],
      "execution_count": 0,
      "outputs": []
    },
    {
      "cell_type": "markdown",
      "metadata": {
        "id": "Y38LdelLx7Hp",
        "colab_type": "text"
      },
      "source": [
        "As colunas dos conjuntos de treino e teste são diferentes. Com isso, vou manter apenas as colunas que existem em ambos os conjuntos."
      ]
    },
    {
      "cell_type": "code",
      "metadata": {
        "id": "TE1uo06mRoxf",
        "colab_type": "code",
        "colab": {}
      },
      "source": [
        "test_col = test.columns\n",
        "train_col = train.columns\n",
        "col_dif = list(set(train_col) - set(test_col))\n",
        "col_dif.remove('IN_TREINEIRO')"
      ],
      "execution_count": 0,
      "outputs": []
    },
    {
      "cell_type": "code",
      "metadata": {
        "id": "eXD9EuCMRtrM",
        "colab_type": "code",
        "colab": {}
      },
      "source": [
        "#Remover as colunas do conjunto de treino que não existem no conjunto de teste\n",
        "train.drop(col_dif, axis=1, inplace=True)"
      ],
      "execution_count": 0,
      "outputs": []
    },
    {
      "cell_type": "markdown",
      "metadata": {
        "id": "IrV3nsJS0JFs",
        "colab_type": "text"
      },
      "source": [
        "Ainda restaram algumas colunas com valores nulos. Como ultrapassam 50% dos dados, essas colunas serão removidas"
      ]
    },
    {
      "cell_type": "code",
      "metadata": {
        "id": "liHtynqYVx53",
        "colab_type": "code",
        "outputId": "bc7f5d5b-1594-40ae-fad3-750b8a60fba4",
        "colab": {
          "base_uri": "https://localhost:8080/",
          "height": 85
        }
      },
      "source": [
        "getMissing(train)"
      ],
      "execution_count": 139,
      "outputs": [
        {
          "output_type": "stream",
          "text": [
            "                        Total    Percent\n",
            "TP_ENSINO                9448  68.812819\n",
            "TP_DEPENDENCIA_ADM_ESC   9448  68.812819\n",
            "Q027                     7373  53.699927\n"
          ],
          "name": "stdout"
        }
      ]
    },
    {
      "cell_type": "code",
      "metadata": {
        "id": "gNsCm6P3fmeP",
        "colab_type": "code",
        "colab": {
          "base_uri": "https://localhost:8080/",
          "height": 102
        },
        "outputId": "968a381c-aa45-418b-a18d-61b7d1f58194"
      },
      "source": [
        "train.groupby(\"IN_TREINEIRO\")['TP_ENSINO'].apply(pd.Series.value_counts)"
      ],
      "execution_count": 140,
      "outputs": [
        {
          "output_type": "execute_result",
          "data": {
            "text/plain": [
              "IN_TREINEIRO     \n",
              "0             1.0    3886\n",
              "              3.0     370\n",
              "              2.0      26\n",
              "Name: TP_ENSINO, dtype: int64"
            ]
          },
          "metadata": {
            "tags": []
          },
          "execution_count": 140
        }
      ]
    },
    {
      "cell_type": "code",
      "metadata": {
        "id": "WB7a35l_fxGX",
        "colab_type": "code",
        "colab": {}
      },
      "source": [
        "train[\"TP_ENSINO\"].fillna(4, inplace=True)\n",
        "test[\"TP_ENSINO\"].fillna(4, inplace=True)"
      ],
      "execution_count": 0,
      "outputs": []
    },
    {
      "cell_type": "code",
      "metadata": {
        "id": "BHBZoXw3mCPg",
        "colab_type": "code",
        "colab": {}
      },
      "source": [
        "col_drop = [\"IN_BAIXA_VISAO\",\t\"IN_CEGUEIRA\",\t\"IN_SURDEZ\",\t\"IN_DISLEXIA\",\t\n",
        "            \"IN_DISCALCULIA\",\t\"IN_SABATISTA\",\t\"IN_GESTANTE\", 'TP_DEPENDENCIA_ADM_ESC', \n",
        "            \"Q027\", \"NU_INSCRICAO\", \"CO_UF_RESIDENCIA\", 'TP_NACIONALIDADE',\n",
        "            'SG_UF_RESIDENCIA']"
      ],
      "execution_count": 0,
      "outputs": []
    },
    {
      "cell_type": "code",
      "metadata": {
        "id": "rkCM5f-RxNy6",
        "colab_type": "code",
        "colab": {}
      },
      "source": [
        "train.drop(col_drop, axis=1, inplace=True)\n",
        "test.drop(col_drop, axis=1, inplace=True)"
      ],
      "execution_count": 0,
      "outputs": []
    },
    {
      "cell_type": "code",
      "metadata": {
        "id": "DknNWLUCWAbc",
        "colab_type": "code",
        "outputId": "719fff5f-dc3f-4604-c733-7fb140ff841c",
        "colab": {
          "base_uri": "https://localhost:8080/",
          "height": 68
        }
      },
      "source": [
        "getMissing(test)"
      ],
      "execution_count": 144,
      "outputs": [
        {
          "output_type": "stream",
          "text": [
            "Empty DataFrame\n",
            "Columns: [Total, Percent]\n",
            "Index: []\n"
          ],
          "name": "stdout"
        }
      ]
    },
    {
      "cell_type": "code",
      "metadata": {
        "id": "7ydA9860SVhF",
        "colab_type": "code",
        "outputId": "3db97ed6-e0fb-4db0-adf4-fd8f673cbb6d",
        "colab": {
          "base_uri": "https://localhost:8080/",
          "height": 34
        }
      },
      "source": [
        "print(train.shape, test.shape)"
      ],
      "execution_count": 145,
      "outputs": [
        {
          "output_type": "stream",
          "text": [
            "(13730, 31) (4570, 30)\n"
          ],
          "name": "stdout"
        }
      ]
    },
    {
      "cell_type": "code",
      "metadata": {
        "id": "C5-cmQF6S25c",
        "colab_type": "code",
        "outputId": "4568d21d-dace-4114-dbbe-0cb9b4800006",
        "colab": {
          "base_uri": "https://localhost:8080/",
          "height": 102
        }
      },
      "source": [
        "test['TP_ENSINO'].value_counts()"
      ],
      "execution_count": 146,
      "outputs": [
        {
          "output_type": "execute_result",
          "data": {
            "text/plain": [
              "4.0    3144\n",
              "1.0    1303\n",
              "3.0     114\n",
              "2.0       9\n",
              "Name: TP_ENSINO, dtype: int64"
            ]
          },
          "metadata": {
            "tags": []
          },
          "execution_count": 146
        }
      ]
    },
    {
      "cell_type": "markdown",
      "metadata": {
        "id": "5DAB0to8WYIG",
        "colab_type": "text"
      },
      "source": [
        "### Análise exploratória dos dados\n",
        "\n",
        "A partir de agora nossos datasets não possuem mais dados nulos e posso começar a verificar as ligações entre os dados e o que mais impacta na variável target. "
      ]
    },
    {
      "cell_type": "code",
      "metadata": {
        "id": "GDPYSPOBWdWU",
        "colab_type": "code",
        "outputId": "93b124f3-076f-4f48-937d-4f50b8b33e30",
        "colab": {
          "base_uri": "https://localhost:8080/",
          "height": 224
        }
      },
      "source": [
        "train.head()"
      ],
      "execution_count": 147,
      "outputs": [
        {
          "output_type": "execute_result",
          "data": {
            "text/html": [
              "<div>\n",
              "<style scoped>\n",
              "    .dataframe tbody tr th:only-of-type {\n",
              "        vertical-align: middle;\n",
              "    }\n",
              "\n",
              "    .dataframe tbody tr th {\n",
              "        vertical-align: top;\n",
              "    }\n",
              "\n",
              "    .dataframe thead th {\n",
              "        text-align: right;\n",
              "    }\n",
              "</style>\n",
              "<table border=\"1\" class=\"dataframe\">\n",
              "  <thead>\n",
              "    <tr style=\"text-align: right;\">\n",
              "      <th></th>\n",
              "      <th>NU_IDADE</th>\n",
              "      <th>TP_SEXO</th>\n",
              "      <th>TP_COR_RACA</th>\n",
              "      <th>TP_ST_CONCLUSAO</th>\n",
              "      <th>TP_ANO_CONCLUIU</th>\n",
              "      <th>TP_ESCOLA</th>\n",
              "      <th>TP_ENSINO</th>\n",
              "      <th>IN_TREINEIRO</th>\n",
              "      <th>IN_IDOSO</th>\n",
              "      <th>TP_PRESENCA_CN</th>\n",
              "      <th>TP_PRESENCA_CH</th>\n",
              "      <th>TP_PRESENCA_LC</th>\n",
              "      <th>TP_PRESENCA_MT</th>\n",
              "      <th>NU_NOTA_CN</th>\n",
              "      <th>NU_NOTA_CH</th>\n",
              "      <th>NU_NOTA_LC</th>\n",
              "      <th>TP_LINGUA</th>\n",
              "      <th>TP_STATUS_REDACAO</th>\n",
              "      <th>NU_NOTA_COMP1</th>\n",
              "      <th>NU_NOTA_COMP2</th>\n",
              "      <th>NU_NOTA_COMP3</th>\n",
              "      <th>NU_NOTA_COMP4</th>\n",
              "      <th>NU_NOTA_COMP5</th>\n",
              "      <th>NU_NOTA_REDACAO</th>\n",
              "      <th>Q001</th>\n",
              "      <th>Q002</th>\n",
              "      <th>Q006</th>\n",
              "      <th>Q024</th>\n",
              "      <th>Q025</th>\n",
              "      <th>Q026</th>\n",
              "      <th>Q047</th>\n",
              "    </tr>\n",
              "  </thead>\n",
              "  <tbody>\n",
              "    <tr>\n",
              "      <th>0</th>\n",
              "      <td>24</td>\n",
              "      <td>M</td>\n",
              "      <td>1</td>\n",
              "      <td>1</td>\n",
              "      <td>4</td>\n",
              "      <td>1</td>\n",
              "      <td>4.0</td>\n",
              "      <td>0</td>\n",
              "      <td>0</td>\n",
              "      <td>1</td>\n",
              "      <td>1</td>\n",
              "      <td>1</td>\n",
              "      <td>1</td>\n",
              "      <td>436.3</td>\n",
              "      <td>495.4</td>\n",
              "      <td>581.2</td>\n",
              "      <td>1</td>\n",
              "      <td>1.0</td>\n",
              "      <td>120.0</td>\n",
              "      <td>120.0</td>\n",
              "      <td>120.0</td>\n",
              "      <td>80.0</td>\n",
              "      <td>80.0</td>\n",
              "      <td>520.0</td>\n",
              "      <td>D</td>\n",
              "      <td>D</td>\n",
              "      <td>C</td>\n",
              "      <td>A</td>\n",
              "      <td>A</td>\n",
              "      <td>C</td>\n",
              "      <td>A</td>\n",
              "    </tr>\n",
              "    <tr>\n",
              "      <th>1</th>\n",
              "      <td>17</td>\n",
              "      <td>F</td>\n",
              "      <td>3</td>\n",
              "      <td>2</td>\n",
              "      <td>0</td>\n",
              "      <td>2</td>\n",
              "      <td>1.0</td>\n",
              "      <td>0</td>\n",
              "      <td>0</td>\n",
              "      <td>1</td>\n",
              "      <td>1</td>\n",
              "      <td>1</td>\n",
              "      <td>1</td>\n",
              "      <td>474.5</td>\n",
              "      <td>544.1</td>\n",
              "      <td>599.0</td>\n",
              "      <td>1</td>\n",
              "      <td>1.0</td>\n",
              "      <td>140.0</td>\n",
              "      <td>120.0</td>\n",
              "      <td>120.0</td>\n",
              "      <td>120.0</td>\n",
              "      <td>80.0</td>\n",
              "      <td>580.0</td>\n",
              "      <td>A</td>\n",
              "      <td>A</td>\n",
              "      <td>B</td>\n",
              "      <td>A</td>\n",
              "      <td>A</td>\n",
              "      <td>A</td>\n",
              "      <td>A</td>\n",
              "    </tr>\n",
              "    <tr>\n",
              "      <th>2</th>\n",
              "      <td>21</td>\n",
              "      <td>F</td>\n",
              "      <td>3</td>\n",
              "      <td>3</td>\n",
              "      <td>0</td>\n",
              "      <td>1</td>\n",
              "      <td>4.0</td>\n",
              "      <td>0</td>\n",
              "      <td>0</td>\n",
              "      <td>0</td>\n",
              "      <td>0</td>\n",
              "      <td>0</td>\n",
              "      <td>0</td>\n",
              "      <td>0.0</td>\n",
              "      <td>0.0</td>\n",
              "      <td>0.0</td>\n",
              "      <td>1</td>\n",
              "      <td>0.0</td>\n",
              "      <td>0.0</td>\n",
              "      <td>0.0</td>\n",
              "      <td>0.0</td>\n",
              "      <td>0.0</td>\n",
              "      <td>0.0</td>\n",
              "      <td>0.0</td>\n",
              "      <td>D</td>\n",
              "      <td>D</td>\n",
              "      <td>C</td>\n",
              "      <td>A</td>\n",
              "      <td>A</td>\n",
              "      <td>A</td>\n",
              "      <td>A</td>\n",
              "    </tr>\n",
              "    <tr>\n",
              "      <th>3</th>\n",
              "      <td>25</td>\n",
              "      <td>F</td>\n",
              "      <td>0</td>\n",
              "      <td>1</td>\n",
              "      <td>9</td>\n",
              "      <td>1</td>\n",
              "      <td>4.0</td>\n",
              "      <td>0</td>\n",
              "      <td>0</td>\n",
              "      <td>0</td>\n",
              "      <td>0</td>\n",
              "      <td>0</td>\n",
              "      <td>0</td>\n",
              "      <td>0.0</td>\n",
              "      <td>0.0</td>\n",
              "      <td>0.0</td>\n",
              "      <td>0</td>\n",
              "      <td>0.0</td>\n",
              "      <td>0.0</td>\n",
              "      <td>0.0</td>\n",
              "      <td>0.0</td>\n",
              "      <td>0.0</td>\n",
              "      <td>0.0</td>\n",
              "      <td>0.0</td>\n",
              "      <td>H</td>\n",
              "      <td>E</td>\n",
              "      <td>E</td>\n",
              "      <td>C</td>\n",
              "      <td>B</td>\n",
              "      <td>C</td>\n",
              "      <td>D</td>\n",
              "    </tr>\n",
              "    <tr>\n",
              "      <th>4</th>\n",
              "      <td>28</td>\n",
              "      <td>M</td>\n",
              "      <td>2</td>\n",
              "      <td>1</td>\n",
              "      <td>4</td>\n",
              "      <td>1</td>\n",
              "      <td>4.0</td>\n",
              "      <td>0</td>\n",
              "      <td>0</td>\n",
              "      <td>0</td>\n",
              "      <td>0</td>\n",
              "      <td>0</td>\n",
              "      <td>0</td>\n",
              "      <td>0.0</td>\n",
              "      <td>0.0</td>\n",
              "      <td>0.0</td>\n",
              "      <td>1</td>\n",
              "      <td>0.0</td>\n",
              "      <td>0.0</td>\n",
              "      <td>0.0</td>\n",
              "      <td>0.0</td>\n",
              "      <td>0.0</td>\n",
              "      <td>0.0</td>\n",
              "      <td>0.0</td>\n",
              "      <td>E</td>\n",
              "      <td>D</td>\n",
              "      <td>C</td>\n",
              "      <td>A</td>\n",
              "      <td>A</td>\n",
              "      <td>B</td>\n",
              "      <td>A</td>\n",
              "    </tr>\n",
              "  </tbody>\n",
              "</table>\n",
              "</div>"
            ],
            "text/plain": [
              "   NU_IDADE TP_SEXO  TP_COR_RACA  TP_ST_CONCLUSAO  TP_ANO_CONCLUIU  TP_ESCOLA  \\\n",
              "0        24       M            1                1                4          1   \n",
              "1        17       F            3                2                0          2   \n",
              "2        21       F            3                3                0          1   \n",
              "3        25       F            0                1                9          1   \n",
              "4        28       M            2                1                4          1   \n",
              "\n",
              "   TP_ENSINO  IN_TREINEIRO  IN_IDOSO  TP_PRESENCA_CN  TP_PRESENCA_CH  \\\n",
              "0        4.0             0         0               1               1   \n",
              "1        1.0             0         0               1               1   \n",
              "2        4.0             0         0               0               0   \n",
              "3        4.0             0         0               0               0   \n",
              "4        4.0             0         0               0               0   \n",
              "\n",
              "   TP_PRESENCA_LC  TP_PRESENCA_MT  NU_NOTA_CN  NU_NOTA_CH  NU_NOTA_LC  \\\n",
              "0               1               1       436.3       495.4       581.2   \n",
              "1               1               1       474.5       544.1       599.0   \n",
              "2               0               0         0.0         0.0         0.0   \n",
              "3               0               0         0.0         0.0         0.0   \n",
              "4               0               0         0.0         0.0         0.0   \n",
              "\n",
              "   TP_LINGUA  TP_STATUS_REDACAO  NU_NOTA_COMP1  NU_NOTA_COMP2  NU_NOTA_COMP3  \\\n",
              "0          1                1.0          120.0          120.0          120.0   \n",
              "1          1                1.0          140.0          120.0          120.0   \n",
              "2          1                0.0            0.0            0.0            0.0   \n",
              "3          0                0.0            0.0            0.0            0.0   \n",
              "4          1                0.0            0.0            0.0            0.0   \n",
              "\n",
              "   NU_NOTA_COMP4  NU_NOTA_COMP5  NU_NOTA_REDACAO Q001 Q002 Q006 Q024 Q025  \\\n",
              "0           80.0           80.0            520.0    D    D    C    A    A   \n",
              "1          120.0           80.0            580.0    A    A    B    A    A   \n",
              "2            0.0            0.0              0.0    D    D    C    A    A   \n",
              "3            0.0            0.0              0.0    H    E    E    C    B   \n",
              "4            0.0            0.0              0.0    E    D    C    A    A   \n",
              "\n",
              "  Q026 Q047  \n",
              "0    C    A  \n",
              "1    A    A  \n",
              "2    A    A  \n",
              "3    C    D  \n",
              "4    B    A  "
            ]
          },
          "metadata": {
            "tags": []
          },
          "execution_count": 147
        }
      ]
    },
    {
      "cell_type": "code",
      "metadata": {
        "id": "UV0gfpS-i17r",
        "colab_type": "code",
        "colab": {
          "base_uri": "https://localhost:8080/",
          "height": 136
        },
        "outputId": "43b6b0eb-8409-4795-9ae1-7189be0c657a"
      },
      "source": [
        "train.groupby(\"IN_TREINEIRO\")['TP_ENSINO'].apply(pd.Series.value_counts)"
      ],
      "execution_count": 148,
      "outputs": [
        {
          "output_type": "execute_result",
          "data": {
            "text/plain": [
              "IN_TREINEIRO     \n",
              "0             4.0    7665\n",
              "              1.0    3886\n",
              "              3.0     370\n",
              "              2.0      26\n",
              "1             4.0    1783\n",
              "Name: TP_ENSINO, dtype: int64"
            ]
          },
          "metadata": {
            "tags": []
          },
          "execution_count": 148
        }
      ]
    },
    {
      "cell_type": "code",
      "metadata": {
        "id": "iuhUVdQTllnE",
        "colab_type": "code",
        "colab": {
          "base_uri": "https://localhost:8080/",
          "height": 102
        },
        "outputId": "00a8976c-0921-436f-8b15-2e291a75ef2b"
      },
      "source": [
        "train.groupby(\"IN_TREINEIRO\")['IN_IDOSO'].apply(pd.Series.value_counts)"
      ],
      "execution_count": 149,
      "outputs": [
        {
          "output_type": "execute_result",
          "data": {
            "text/plain": [
              "IN_TREINEIRO   \n",
              "0             0    11945\n",
              "              1        2\n",
              "1             0     1783\n",
              "Name: IN_IDOSO, dtype: int64"
            ]
          },
          "metadata": {
            "tags": []
          },
          "execution_count": 149
        }
      ]
    },
    {
      "cell_type": "code",
      "metadata": {
        "id": "INNWNQjLoOCl",
        "colab_type": "code",
        "colab": {}
      },
      "source": [
        "from sklearn.preprocessing import (\n",
        "    OneHotEncoder, Binarizer, KBinsDiscretizer,\n",
        "    MinMaxScaler, StandardScaler, PolynomialFeatures\n",
        ")"
      ],
      "execution_count": 0,
      "outputs": []
    },
    {
      "cell_type": "code",
      "metadata": {
        "id": "unlZeG0CoOeP",
        "colab_type": "code",
        "colab": {
          "base_uri": "https://localhost:8080/",
          "height": 34
        },
        "outputId": "49dd27eb-02ca-46ec-c66a-0b8b9e7d299a"
      },
      "source": [
        "#train['TP_IDADE_AGRUPADA'] = pd.cut(train['NU_IDADE'], bins=[0, 17, 19, 21, 26, 31, 41, 100], labels=range(7)).ravel()\n",
        "discretizer = KBinsDiscretizer(n_bins=10, encode=\"ordinal\", strategy=\"quantile\")\n",
        "discretizer.fit(train[['NU_IDADE']])"
      ],
      "execution_count": 151,
      "outputs": [
        {
          "output_type": "execute_result",
          "data": {
            "text/plain": [
              "KBinsDiscretizer(encode='ordinal', n_bins=10, strategy='quantile')"
            ]
          },
          "metadata": {
            "tags": []
          },
          "execution_count": 151
        }
      ]
    },
    {
      "cell_type": "code",
      "metadata": {
        "id": "J5xB7bdFoRlv",
        "colab_type": "code",
        "colab": {}
      },
      "source": [
        "idade_bins = discretizer.transform(train[['NU_IDADE']])\n",
        "idade_bins_test = discretizer.transform(test[['NU_IDADE']])"
      ],
      "execution_count": 0,
      "outputs": []
    },
    {
      "cell_type": "code",
      "metadata": {
        "id": "wBPCbCbjoVpA",
        "colab_type": "code",
        "colab": {}
      },
      "source": [
        "train['TP_IDADE_BINS'] = idade_bins\n",
        "test['TP_IDADE_BINS'] = idade_bins_test\n",
        "\n",
        "train.drop([\"NU_IDADE\"], axis=1, inplace=True)\n",
        "test.drop([\"NU_IDADE\"], axis=1, inplace=True)"
      ],
      "execution_count": 0,
      "outputs": []
    },
    {
      "cell_type": "code",
      "metadata": {
        "id": "raqZi0Dtmcek",
        "colab_type": "code",
        "colab": {}
      },
      "source": [
        "#train.groupby(\"IN_TREINEIRO\")['TP_IDADE_BINS'].apply(pd.Series.value_counts)"
      ],
      "execution_count": 0,
      "outputs": []
    },
    {
      "cell_type": "code",
      "metadata": {
        "id": "SzxcrWLaqZaJ",
        "colab_type": "code",
        "colab": {}
      },
      "source": [
        "col_num = ['NU_NOTA_CN',\t'NU_NOTA_CH',\t'NU_NOTA_LC',\t'NU_NOTA_COMP1',\t'NU_NOTA_COMP2',\n",
        "           'NU_NOTA_COMP3',\t'NU_NOTA_COMP4',\t'NU_NOTA_COMP5',\t'NU_NOTA_REDACAO',\n",
        "           'Q001',\t'Q002',\t'Q006',\t'Q024',\t'Q025',\t'Q026',\t'Q047']\n",
        "\n",
        "col_dum = ['TP_SEXO', 'TP_COR_RACA', 'TP_ST_CONCLUSAO', 'TP_ANO_CONCLUIU',\n",
        "       'TP_ESCOLA', 'TP_ENSINO', 'IN_IDOSO', 'TP_PRESENCA_CN',\n",
        "       'TP_PRESENCA_CH', 'TP_PRESENCA_LC', 'TP_PRESENCA_MT', 'TP_LINGUA',\n",
        "       'TP_STATUS_REDACAO', 'TP_IDADE_BINS']"
      ],
      "execution_count": 0,
      "outputs": []
    },
    {
      "cell_type": "code",
      "metadata": {
        "id": "oPWKmk8YqrqI",
        "colab_type": "code",
        "colab": {}
      },
      "source": [
        "y_train = train['IN_TREINEIRO']\n",
        "X_train = train[col_dum]\n",
        "X_test = test[col_dum]"
      ],
      "execution_count": 0,
      "outputs": []
    },
    {
      "cell_type": "code",
      "metadata": {
        "id": "mrAEAtIdZbXV",
        "colab_type": "code",
        "outputId": "b1e89a7a-b0b2-41b8-8240-292c308c70c9",
        "colab": {
          "base_uri": "https://localhost:8080/",
          "height": 34
        }
      },
      "source": [
        "print(X_train.shape, X_test.shape)"
      ],
      "execution_count": 161,
      "outputs": [
        {
          "output_type": "stream",
          "text": [
            "(13730, 14) (4570, 14)\n"
          ],
          "name": "stdout"
        }
      ]
    },
    {
      "cell_type": "markdown",
      "metadata": {
        "id": "zBdDhJNu5ynl",
        "colab_type": "text"
      },
      "source": [
        "Concatenando os dois conjuntos para aplicar a transformação Dummies das variáveis categóricas e Standard Scaler nas variáveis contínuas."
      ]
    },
    {
      "cell_type": "code",
      "metadata": {
        "id": "IwQ_lK4mZrTD",
        "colab_type": "code",
        "outputId": "f79e7ece-d6ea-4237-8610-3fae96770901",
        "colab": {
          "base_uri": "https://localhost:8080/",
          "height": 34
        }
      },
      "source": [
        "data = pd.concat([X_train, X_test], axis=0, ignore_index=True)\n",
        "data.shape"
      ],
      "execution_count": 162,
      "outputs": [
        {
          "output_type": "execute_result",
          "data": {
            "text/plain": [
              "(18300, 14)"
            ]
          },
          "metadata": {
            "tags": []
          },
          "execution_count": 162
        }
      ]
    },
    {
      "cell_type": "code",
      "metadata": {
        "id": "Vp9v70gsrPAE",
        "colab_type": "code",
        "colab": {}
      },
      "source": [
        "data = pd.get_dummies(data, columns=col_dum, drop_first=True)"
      ],
      "execution_count": 0,
      "outputs": []
    },
    {
      "cell_type": "code",
      "metadata": {
        "id": "Z5EeY9v7Z0iB",
        "colab_type": "code",
        "outputId": "d46f1ebd-bcfb-4745-e647-ad7ab69e201a",
        "colab": {
          "base_uri": "https://localhost:8080/",
          "height": 34
        }
      },
      "source": [
        "data.shape"
      ],
      "execution_count": 164,
      "outputs": [
        {
          "output_type": "execute_result",
          "data": {
            "text/plain": [
              "(18300, 51)"
            ]
          },
          "metadata": {
            "tags": []
          },
          "execution_count": 164
        }
      ]
    },
    {
      "cell_type": "code",
      "metadata": {
        "id": "7o2cZpWBaHla",
        "colab_type": "code",
        "colab": {}
      },
      "source": [
        "#Separando novamente os conjuntos\n",
        "X_train = data.head(X_train.shape[0])\n",
        "\n",
        "X_test = data.tail(X_test.shape[0])"
      ],
      "execution_count": 0,
      "outputs": []
    },
    {
      "cell_type": "code",
      "metadata": {
        "id": "52b0P-ydrPKo",
        "colab_type": "code",
        "colab": {}
      },
      "source": [
        "from sklearn.metrics import classification_report, accuracy_score \n",
        "from xgboost import XGBClassifier"
      ],
      "execution_count": 0,
      "outputs": []
    },
    {
      "cell_type": "markdown",
      "metadata": {
        "id": "PgAbAP6EAwBX",
        "colab_type": "text"
      },
      "source": [
        "## Modelagem\n",
        "\n",
        "Utilizei um modelo de regressão XGBClassifier com parâmetros normais. Isso já é suficiente para um bom desempenho. "
      ]
    },
    {
      "cell_type": "code",
      "metadata": {
        "id": "jCvgs8YXakGo",
        "colab_type": "code",
        "colab": {}
      },
      "source": [
        "xgb_model = XGBClassifier()\n",
        "\n",
        "xgb_model.fit(X_train, y_train, verbose=False)\n",
        "y_pred_xgb = xgb_model.predict(X_train)"
      ],
      "execution_count": 0,
      "outputs": []
    },
    {
      "cell_type": "code",
      "metadata": {
        "id": "ZWvAer2h-Yva",
        "colab_type": "code",
        "colab": {
          "base_uri": "https://localhost:8080/",
          "height": 34
        },
        "outputId": "384724d4-15cc-4558-ce29-528e7cc504b2"
      },
      "source": [
        "print(accuracy_score(y_train, y_pred_xgb))"
      ],
      "execution_count": 172,
      "outputs": [
        {
          "output_type": "stream",
          "text": [
            "0.9970138383102695\n"
          ],
          "name": "stdout"
        }
      ]
    },
    {
      "cell_type": "code",
      "metadata": {
        "id": "STFbdJM--LK0",
        "colab_type": "code",
        "colab": {
          "base_uri": "https://localhost:8080/",
          "height": 170
        },
        "outputId": "dff24b2a-7ec3-417c-c940-e99cdacf9fb7"
      },
      "source": [
        "print(classification_report(y_train, y_pred_xgb))"
      ],
      "execution_count": 173,
      "outputs": [
        {
          "output_type": "stream",
          "text": [
            "              precision    recall  f1-score   support\n",
            "\n",
            "           0       1.00      1.00      1.00     11947\n",
            "           1       1.00      0.98      0.99      1783\n",
            "\n",
            "    accuracy                           1.00     13730\n",
            "   macro avg       1.00      0.99      0.99     13730\n",
            "weighted avg       1.00      1.00      1.00     13730\n",
            "\n"
          ],
          "name": "stdout"
        }
      ]
    },
    {
      "cell_type": "markdown",
      "metadata": {
        "id": "cmae8tCz_qT2",
        "colab_type": "text"
      },
      "source": [
        "O relatório está mostrando um modelo praticamente impecável com dados de treino. Isso pode ser overfitting, vamos ver como ficaram com os dados de teste. "
      ]
    },
    {
      "cell_type": "code",
      "metadata": {
        "id": "Hjp3itcZrPWc",
        "colab_type": "code",
        "colab": {}
      },
      "source": [
        ""
      ],
      "execution_count": 0,
      "outputs": []
    },
    {
      "cell_type": "code",
      "metadata": {
        "id": "j1Z1fRIoZa2G",
        "colab_type": "code",
        "colab": {}
      },
      "source": [
        "predicao = xgb_model.predict(X_test)"
      ],
      "execution_count": 0,
      "outputs": []
    },
    {
      "cell_type": "code",
      "metadata": {
        "id": "nzdX9wUjrPZf",
        "colab_type": "code",
        "colab": {}
      },
      "source": [
        "#Criando um dataframe para submissão\n",
        "subm = pd.read_csv('test_enem4.csv')\n",
        "\n",
        "#Fazendo as previsões para o conjunto de test\n",
        "subm['IN_TREINEIRO'] = predicao"
      ],
      "execution_count": 0,
      "outputs": []
    },
    {
      "cell_type": "code",
      "metadata": {
        "id": "BO64bs6bvE1Q",
        "colab_type": "code",
        "colab": {}
      },
      "source": [
        "#Separando apenas o número de inscrição e a nota para submeter o desafio\n",
        "subm = subm[['NU_INSCRICAO','IN_TREINEIRO']]"
      ],
      "execution_count": 0,
      "outputs": []
    },
    {
      "cell_type": "code",
      "metadata": {
        "id": "r4uNMmELJ17B",
        "colab_type": "code",
        "outputId": "edca02df-e194-4752-a9ef-5b46cbd76741",
        "colab": {
          "base_uri": "https://localhost:8080/",
          "height": 204
        }
      },
      "source": [
        "subm.head()"
      ],
      "execution_count": 180,
      "outputs": [
        {
          "output_type": "execute_result",
          "data": {
            "text/html": [
              "<div>\n",
              "<style scoped>\n",
              "    .dataframe tbody tr th:only-of-type {\n",
              "        vertical-align: middle;\n",
              "    }\n",
              "\n",
              "    .dataframe tbody tr th {\n",
              "        vertical-align: top;\n",
              "    }\n",
              "\n",
              "    .dataframe thead th {\n",
              "        text-align: right;\n",
              "    }\n",
              "</style>\n",
              "<table border=\"1\" class=\"dataframe\">\n",
              "  <thead>\n",
              "    <tr style=\"text-align: right;\">\n",
              "      <th></th>\n",
              "      <th>NU_INSCRICAO</th>\n",
              "      <th>IN_TREINEIRO</th>\n",
              "    </tr>\n",
              "  </thead>\n",
              "  <tbody>\n",
              "    <tr>\n",
              "      <th>0</th>\n",
              "      <td>ba0cc30ba34e7a46764c09dfc38ed83d15828897</td>\n",
              "      <td>0</td>\n",
              "    </tr>\n",
              "    <tr>\n",
              "      <th>1</th>\n",
              "      <td>177f281c68fa032aedbd842a745da68490926cd2</td>\n",
              "      <td>0</td>\n",
              "    </tr>\n",
              "    <tr>\n",
              "      <th>2</th>\n",
              "      <td>6cf0d8b97597d7625cdedc7bdb6c0f052286c334</td>\n",
              "      <td>1</td>\n",
              "    </tr>\n",
              "    <tr>\n",
              "      <th>3</th>\n",
              "      <td>5c356d810fa57671402502cd0933e5601a2ebf1e</td>\n",
              "      <td>0</td>\n",
              "    </tr>\n",
              "    <tr>\n",
              "      <th>4</th>\n",
              "      <td>df47c07bd881c2db3f38c6048bf77c132ad0ceb3</td>\n",
              "      <td>0</td>\n",
              "    </tr>\n",
              "  </tbody>\n",
              "</table>\n",
              "</div>"
            ],
            "text/plain": [
              "                               NU_INSCRICAO  IN_TREINEIRO\n",
              "0  ba0cc30ba34e7a46764c09dfc38ed83d15828897             0\n",
              "1  177f281c68fa032aedbd842a745da68490926cd2             0\n",
              "2  6cf0d8b97597d7625cdedc7bdb6c0f052286c334             1\n",
              "3  5c356d810fa57671402502cd0933e5601a2ebf1e             0\n",
              "4  df47c07bd881c2db3f38c6048bf77c132ad0ceb3             0"
            ]
          },
          "metadata": {
            "tags": []
          },
          "execution_count": 180
        }
      ]
    },
    {
      "cell_type": "code",
      "metadata": {
        "id": "PbzLzkmPJ3fv",
        "colab_type": "code",
        "colab": {}
      },
      "source": [
        "subm.to_csv(\"submission_colab.csv\", index=False)"
      ],
      "execution_count": 0,
      "outputs": []
    },
    {
      "cell_type": "code",
      "metadata": {
        "id": "KDBsTuoAKJcV",
        "colab_type": "code",
        "colab": {}
      },
      "source": [
        "#Fazendo download do arquivo de resposta\n",
        "import os\n",
        "from google.colab import files\n",
        "\n",
        "os.chdir(r'/content')\n",
        "\n",
        "files.download('submission_colab.csv')"
      ],
      "execution_count": 0,
      "outputs": []
    },
    {
      "cell_type": "markdown",
      "metadata": {
        "id": "bITwYG18_4Bs",
        "colab_type": "text"
      },
      "source": [
        "### Resultados Submissão\n",
        "\n",
        "Após submeter o conjunto de teste a acurácia do modelo foi de 99.74%, isso demonstra que apesar de simples o modelo está praticamente perfeito e resolvendo o problema. "
      ]
    },
    {
      "cell_type": "code",
      "metadata": {
        "id": "RQ0dWJV5ALoy",
        "colab_type": "code",
        "colab": {}
      },
      "source": [
        ""
      ],
      "execution_count": 0,
      "outputs": []
    }
  ]
}